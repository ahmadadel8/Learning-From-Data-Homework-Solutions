{
 "cells": [
  {
   "cell_type": "code",
   "execution_count": 1,
   "metadata": {},
   "outputs": [],
   "source": [
    "import numpy as np \n",
    "import random\n",
    "import matplotlib.pyplot as plt"
   ]
  },
  {
   "cell_type": "code",
   "execution_count": 2,
   "metadata": {},
   "outputs": [],
   "source": [
    "def gen_xn(N, d=2):\n",
    "    return np.random.uniform(-1,1,(N+1000,d))\n"
   ]
  },
  {
   "cell_type": "code",
   "execution_count": 3,
   "metadata": {},
   "outputs": [],
   "source": [
    "def gen_f(xn, d=2):\n",
    "    x1=np.random.uniform(-1,1,d)\n",
    "    x2=np.random.uniform(-1,1,d)\n",
    "\n",
    "    m= (x1[1]-x2[1])/(x1[0]-x2[0])\n",
    "    c=x1[1]-m*x1[0]\n",
    "\n",
    "    y_f=[]\n",
    "    for i,x in enumerate(xn):\n",
    "        if x[1] > x[0]*m+c:\n",
    "            y_f.append(1)\n",
    "        else: \n",
    "            y_f.append(-1)\n",
    "\n",
    "    out=np.concatenate((xn, np.array(y_f).reshape(-1, 1)), axis=-1)\n",
    "\n",
    "    return out[:N], out[N:]\n",
    "    "
   ]
  },
  {
   "cell_type": "code",
   "execution_count": 4,
   "metadata": {},
   "outputs": [],
   "source": [
    "def sign(X):\n",
    "    out=[]\n",
    "\n",
    "    for x in X:\n",
    "        if x>0:\n",
    "            out.append(1)\n",
    "        elif x<0:\n",
    "            out.append(-1)\n",
    "        elif x==0:\n",
    "            out.append(0)\n",
    "    return out"
   ]
  },
  {
   "cell_type": "code",
   "execution_count": 5,
   "metadata": {},
   "outputs": [],
   "source": [
    "def add_noise(data,percentage=0.1):\n",
    "    idx=random.sample(range(data.shape[0]), int(percentage*data.shape[0]))\n",
    "    data[idx, -1]=data[idx,-1]*-1\n",
    "    return data"
   ]
  },
  {
   "cell_type": "code",
   "execution_count": 6,
   "metadata": {},
   "outputs": [],
   "source": [
    "def linear_regression(data):\n",
    "    x,y=data[:,:-1], data[:,-1]\n",
    "    x=np.concatenate((np.ones((x.shape[0], 1)), x), axis=-1)\n",
    "    xt=np.linalg.pinv(x)\n",
    "    return xt.dot(y)"
   ]
  },
  {
   "cell_type": "code",
   "execution_count": 7,
   "metadata": {},
   "outputs": [],
   "source": [
    "def linear_regression_calc(x,w):\n",
    "    x=np.concatenate((np.ones((x.shape[0], 1)),x), axis=-1)\n",
    "    return sign(x.dot(w))"
   ]
  },
  {
   "cell_type": "code",
   "execution_count": 8,
   "metadata": {},
   "outputs": [],
   "source": [
    "def PLA(i_p, w):\n",
    "    x,y= i_p[:, :2], i_p[:, -1]    \n",
    "    x=np.concatenate((np.ones((x.shape[0], 1)), x), axis=-1)\n",
    "    i=0\n",
    "    while(True):\n",
    "        i+=1\n",
    "        h=sign(np.sum(w*x, axis=1))\n",
    "        score=np.sum(abs(h-y))\n",
    "        idx=np.argwhere((h-y)!=0)\n",
    "        if score ==0: break\n",
    "        idx=idx[np.random.randint(idx.shape[0])]\n",
    "        \n",
    "        w=w+y[idx]*x[idx].reshape(w.shape)\n",
    "\n",
    "    return w, i"
   ]
  },
  {
   "cell_type": "code",
   "execution_count": 9,
   "metadata": {},
   "outputs": [],
   "source": [
    "def non_linear_transoformation(data):\n",
    "    x1,x2,y   = data[:,0],data[:,1],data[:,2]\n",
    "    out       = np.zeros((data.shape[0], 6))\n",
    "    out[:,0]  = x1\n",
    "    out[:,1]  = x2\n",
    "    out[:,2]  = np.multiply(x1,x2)\n",
    "    out[:,3]  = np.multiply(x1,x1)\n",
    "    out[:,4]  = np.multiply(x2,x2)\n",
    "    out[:,5]  = y\n",
    "    \n",
    "    return out"
   ]
  },
  {
   "cell_type": "code",
   "execution_count": 10,
   "metadata": {},
   "outputs": [],
   "source": [
    "def gen_f_lr(xn, d=2):\n",
    "    x1,x2 = xn[:,0], xn[:,1]\n",
    "    y_f   = sign(x1**2+x2**2-0.6)\n",
    "    out=np.concatenate((xn, np.array(y_f).reshape(-1, 1)), axis=-1)\n",
    "    return(out[:N], out[N:])"
   ]
  },
  {
   "cell_type": "markdown",
   "metadata": {},
   "source": [
    "## Questions 5,6"
   ]
  },
  {
   "cell_type": "code",
   "execution_count": 11,
   "metadata": {},
   "outputs": [
    {
     "name": "stdout",
     "output_type": "stream",
     "text": [
      "Average Ein  =  0.04012\n",
      "Average Eout =  0.04810300000000001\n"
     ]
    }
   ],
   "source": [
    "N        = 100\n",
    "N_exp    = 1000\n",
    "Ein, Eout= [], []\n",
    "for _ in range(N_exp):\n",
    "    xn        = gen_xn(N)\n",
    "    din, dout = gen_f(xn, d=2)\n",
    "    w         = linear_regression(din)\n",
    "    y_in_w    = linear_regression_calc(din[:,:-1], w)\n",
    "    y_in      = din[:,-1]\n",
    "    Ein.append (np.mean(np.not_equal(y_in_w,y_in)))\n",
    "    y_out_w   = linear_regression_calc(dout[:,:-1], w)\n",
    "    y_out     = dout[:,-1]\n",
    "    Eout.append(np.mean(np.not_equal(y_out_w,y_out)))\n",
    "    \n",
    "print(\"Average Ein  = \", np.mean(Ein ))\n",
    "print(\"Average Eout = \", np.mean(Eout))"
   ]
  },
  {
   "cell_type": "markdown",
   "metadata": {},
   "source": [
    "## Question 7"
   ]
  },
  {
   "cell_type": "code",
   "execution_count": 12,
   "metadata": {},
   "outputs": [
    {
     "name": "stdout",
     "output_type": "stream",
     "text": [
      "Converged after: 5.114\n"
     ]
    }
   ],
   "source": [
    "N        = 10\n",
    "N_exp    = 1000\n",
    "it=[]\n",
    "for _ in range(N_exp):\n",
    "    xn        = gen_xn(N)\n",
    "    din, dout = gen_f(xn, d=2)\n",
    "    w         = linear_regression(din)\n",
    "    _,itr       = PLA(din, w)\n",
    "    it.append(itr)\n",
    "print('Converged after:', np.mean(it))"
   ]
  },
  {
   "cell_type": "markdown",
   "metadata": {},
   "source": [
    "## Question 8 "
   ]
  },
  {
   "cell_type": "code",
   "execution_count": 13,
   "metadata": {},
   "outputs": [
    {
     "name": "stdout",
     "output_type": "stream",
     "text": [
      "Average Ein  =  0.503481\n"
     ]
    }
   ],
   "source": [
    "N        = 1000\n",
    "N_exp    = 1000\n",
    "Ein= []\n",
    "for _ in range(N_exp):\n",
    "    xn        = gen_xn(N)\n",
    "    din, _    = gen_f_lr(xn, d=2)\n",
    "    din_noisy = add_noise(din)\n",
    "    w         = linear_regression(din_noisy)\n",
    "    y_in_w    = linear_regression_calc(din[:,:-1], w)\n",
    "    y_in      = din[:,-1]\n",
    "    Ein.append (np.mean(np.not_equal(y_in_w,y_in)))\n",
    "\n",
    "    \n",
    "print(\"Average Ein  = \", np.mean(Ein ))"
   ]
  },
  {
   "cell_type": "code",
   "execution_count": 14,
   "metadata": {},
   "outputs": [
    {
     "name": "stdout",
     "output_type": "stream",
     "text": [
      "The hypothesis is clossest to g[ 0 ]\n",
      "Average Eout =  0.125926\n"
     ]
    }
   ],
   "source": [
    "N        = 1000\n",
    "N_exp    = 1000\n",
    "ws_=[]\n",
    "Ein, Eout= np.zeros((N_exp, 5)), []\n",
    "\n",
    "g=[]\n",
    "g.append([-1, -0.05, 0.08, 0.13, 1.5 , 1.5 ])\n",
    "g.append([-1, -0.05, 0.08, 0.13, 1.5 , 15  ])\n",
    "g.append([-1, -0.05, 0.08, 0.13, 15  , 1.5 ])\n",
    "g.append([-1, -1.5 , 0.08, 0.13, 0.05, 0.05])\n",
    "g.append([-1, -0.05, 0.08, 1.5 , 0.15, 0.15])\n",
    "\n",
    "\n",
    "for e in range(N_exp):\n",
    "    xn          = gen_xn(N)\n",
    "    din, dout  = gen_f_lr(xn, d=2)\n",
    "\n",
    "    din_noisy   = add_noise(din)\n",
    "    d_out_noisy = add_noise(dout)\n",
    "    \n",
    "    din_trans   = non_linear_transoformation(din_noisy)\n",
    "    dout_trans  = non_linear_transoformation(d_out_noisy)\n",
    "    w           = linear_regression(din_trans)\n",
    "    y_in_w      = linear_regression_calc(din_trans[:,:-1], w)\n",
    "    for i in range(5): \n",
    "        y_g= linear_regression_calc(din_trans[:,:-1], g[i])\n",
    "        Ein[e,i]= np.mean(np.not_equal(y_in_w,y_g))\n",
    "    y_out_w   = linear_regression_calc(dout_trans[:,:-1], w)\n",
    "    y_out     = dout[:,-1]\n",
    "    Eout.append(np.mean(np.not_equal(y_out_w,y_out)))\n",
    "Ein=np.mean(Ein, axis=0)\n",
    "print(\"The hypothesis is clossest to g[\", np.where(Ein == np.amin(Ein))[0][0], ']')\n",
    "print(\"Average Eout = \", np.mean(Eout))"
   ]
  },
  {
   "cell_type": "code",
   "execution_count": null,
   "metadata": {},
   "outputs": [],
   "source": []
  }
 ],
 "metadata": {
  "kernelspec": {
   "display_name": "Python 3",
   "language": "python",
   "name": "python3"
  },
  "language_info": {
   "codemirror_mode": {
    "name": "ipython",
    "version": 3
   },
   "file_extension": ".py",
   "mimetype": "text/x-python",
   "name": "python",
   "nbconvert_exporter": "python",
   "pygments_lexer": "ipython3",
   "version": "3.7.4"
  }
 },
 "nbformat": 4,
 "nbformat_minor": 2
}
