{
 "cells": [
  {
   "cell_type": "code",
   "execution_count": 1,
   "metadata": {},
   "outputs": [],
   "source": [
    "import numpy as np \n",
    "import matplotlib.pyplot as plt"
   ]
  },
  {
   "cell_type": "code",
   "execution_count": 2,
   "metadata": {},
   "outputs": [],
   "source": [
    "def gen_xn(N, d=2):\n",
    "    return np.random.uniform(-1,1,(N+1000,d))\n"
   ]
  },
  {
   "cell_type": "code",
   "execution_count": 3,
   "metadata": {},
   "outputs": [],
   "source": [
    "def gen_f(xn, d=2):\n",
    "    x1=np.random.uniform(-1,1,d)\n",
    "    x2=np.random.uniform(-1,1,d)\n",
    "\n",
    "    m= (x1[1]-x2[1])/(x1[0]-x2[0])\n",
    "    c=x1[1]-m*x1[0]\n",
    "\n",
    "    y_f=[]\n",
    "    for i,x in enumerate(xn):\n",
    "        if x[1] > x[0]*m+c:\n",
    "            y_f.append(1)\n",
    "        else: \n",
    "            y_f.append(-1)\n",
    "\n",
    "    out=np.concatenate((xn, np.array(y_f).reshape(-1, 1)), axis=-1)\n",
    "\n",
    "    return out[:N], out[N:]\n",
    "    "
   ]
  },
  {
   "cell_type": "code",
   "execution_count": 4,
   "metadata": {},
   "outputs": [],
   "source": [
    "def sign(X):\n",
    "    out=[]\n",
    "\n",
    "    for x in X:\n",
    "        if x>0:\n",
    "            out.append(1)\n",
    "        elif x<0:\n",
    "            out.append(-1)\n",
    "        elif x==0:\n",
    "            out.append(0)\n",
    "    return out"
   ]
  },
  {
   "cell_type": "code",
   "execution_count": 5,
   "metadata": {},
   "outputs": [],
   "source": [
    "def linear_regression(data):\n",
    "    x,y=data[:,:-1], data[:,-1]\n",
    "    x=np.concatenate((x, np.ones((x.shape[0], 1))), axis=-1)\n",
    "    xt=np.linalg.pinv(x)\n",
    "    return xt.dot(y)"
   ]
  },
  {
   "cell_type": "code",
   "execution_count": 6,
   "metadata": {},
   "outputs": [],
   "source": [
    "def linear_regression_calc(x,w):\n",
    "    x=np.concatenate((x, np.ones((x.shape[0], 1))), axis=-1)\n",
    "    return sign(x.dot(w))"
   ]
  },
  {
   "cell_type": "code",
   "execution_count": 7,
   "metadata": {},
   "outputs": [],
   "source": [
    "def PLA(i_p, w):\n",
    "    x,y= i_p[:, :2], i_p[:, -1]    \n",
    "    x=np.concatenate((x, np.ones((x.shape[0], 1))), axis=-1)\n",
    "    i=0\n",
    "    while(True):\n",
    "        i+=1\n",
    "        h=sign(np.sum(w*x, axis=1))\n",
    "        score=np.sum(abs(h-y))\n",
    "        idx=np.argwhere((h-y)!=0)\n",
    "        if score ==0: break\n",
    "        idx=idx[np.random.randint(idx.shape[0])]\n",
    "        \n",
    "        w=w+y[idx]*x[idx].reshape(w.shape)\n",
    "\n",
    "    return w, i"
   ]
  },
  {
   "cell_type": "code",
   "execution_count": 8,
   "metadata": {},
   "outputs": [
    {
     "name": "stdout",
     "output_type": "stream",
     "text": [
      "Average Ein  =  0.039060000000000004\n",
      "Average Eout =  0.04916100000000001\n"
     ]
    }
   ],
   "source": [
    "N        = 100\n",
    "N_exp    = 1000\n",
    "Ein, Eout= [], []\n",
    "for _ in range(N_exp):\n",
    "    xn        = gen_xn(N)\n",
    "    din, dout = gen_f(xn, d=2)\n",
    "    w         = linear_regression(din)\n",
    "    y_in_w    = linear_regression_calc(din[:,:-1], w)\n",
    "    y_in      = din[:,-1]\n",
    "    Ein.append (np.mean(np.not_equal(y_in_w,y_in)))\n",
    "    y_out_w   = linear_regression_calc(dout[:,:-1], w)\n",
    "    y_out     = dout[:,-1]\n",
    "    Eout.append(np.mean(np.not_equal(y_out_w,y_out)))\n",
    "    \n",
    "print(\"Average Ein  = \", np.mean(Ein ))\n",
    "print(\"Average Eout = \", np.mean(Eout))"
   ]
  },
  {
   "cell_type": "code",
   "execution_count": 9,
   "metadata": {},
   "outputs": [
    {
     "name": "stdout",
     "output_type": "stream",
     "text": [
      "Converged after: 5.428\n"
     ]
    }
   ],
   "source": [
    "N        = 10\n",
    "N_exp    = 1000\n",
    "it=[]\n",
    "for _ in range(N_exp):\n",
    "    xn        = gen_xn(N)\n",
    "    din, dout = gen_f(xn, d=2)\n",
    "    w         = linear_regression(din)\n",
    "    _,itr       = PLA(din, w)\n",
    "    it.append(itr)\n",
    "print('Converged after:', np.mean(it))"
   ]
  }
 ],
 "metadata": {
  "kernelspec": {
   "display_name": "Python 3",
   "language": "python",
   "name": "python3"
  },
  "language_info": {
   "codemirror_mode": {
    "name": "ipython",
    "version": 3
   },
   "file_extension": ".py",
   "mimetype": "text/x-python",
   "name": "python",
   "nbconvert_exporter": "python",
   "pygments_lexer": "ipython3",
   "version": "3.7.4"
  }
 },
 "nbformat": 4,
 "nbformat_minor": 2
}
