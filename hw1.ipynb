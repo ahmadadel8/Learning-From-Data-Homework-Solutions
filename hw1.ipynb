{
 "cells": [
  {
   "cell_type": "code",
   "execution_count": 1,
   "metadata": {},
   "outputs": [],
   "source": [
    "import numpy as np\n",
    "import matplotlib.pyplot as plt"
   ]
  },
  {
   "cell_type": "code",
   "execution_count": 2,
   "metadata": {},
   "outputs": [],
   "source": [
    "def gen_xn(N, d=2):\n",
    "    return np.random.uniform(-1,1,(N,d))\n"
   ]
  },
  {
   "cell_type": "code",
   "execution_count": 3,
   "metadata": {},
   "outputs": [],
   "source": [
    "def gen_f(xn, d=2):\n",
    "    x1=np.random.uniform(-1,1,d)\n",
    "    x2=np.random.uniform(-1,1,d)\n",
    "\n",
    "    m= (x1[1]-x2[1])/(x1[0]-x2[0])\n",
    "    c=x1[1]-m*x1[0]\n",
    "\n",
    "    y_f=[]\n",
    "    for i,x in enumerate(xn):\n",
    "        if x[1] > x[0]*m+c:\n",
    "            y_f.append(1)\n",
    "        else: \n",
    "            y_f.append(-1)\n",
    "\n",
    "    out=np.concatenate((xn, np.array(y_f).reshape(-1, 1)), axis=-1)\n",
    "\n",
    "    return out, [m,c]\n",
    "    "
   ]
  },
  {
   "cell_type": "code",
   "execution_count": 4,
   "metadata": {},
   "outputs": [],
   "source": [
    "def sign(X):\n",
    "    out=[]\n",
    "\n",
    "    for x in X:\n",
    "        if x>0:\n",
    "            out.append(1)\n",
    "        elif x<0:\n",
    "            out.append(-1)\n",
    "        elif x==0:\n",
    "            out.append(0)\n",
    "    return out"
   ]
  },
  {
   "cell_type": "code",
   "execution_count": 5,
   "metadata": {},
   "outputs": [],
   "source": [
    "def PLA(i_p):\n",
    "    w=np.zeros(3)\n",
    "    x,y= i_p[:, :2], i_p[:, -1]    \n",
    "    x=np.concatenate((x, np.ones((x.shape[0], 1))), axis=-1)\n",
    "    i=0\n",
    "    while(True):\n",
    "        i+=1\n",
    "        h=sign(np.sum(w*x, axis=1))\n",
    "        score=np.sum(abs(h-y))\n",
    "        idx=np.argwhere((h-y)!=0)\n",
    "        #print('predicted:', h ,'\\n true:', y)\n",
    "        #print('score', score)\n",
    "        if score ==0: break\n",
    "        idx=idx[np.random.randint(idx.shape[0])]\n",
    "        \n",
    "        w=w+y[idx]*x[idx].reshape(w.shape)\n",
    "\n",
    "    return w, i\n",
    "    "
   ]
  },
  {
   "cell_type": "code",
   "execution_count": 6,
   "metadata": {},
   "outputs": [],
   "source": [
    "def plot(w_t, w_p, out_f):\n",
    "    m_t=w_t[0]\n",
    "    c_t=w_t[1]\n",
    "    \n",
    "\n",
    "    y= [-1,1]\n",
    "    x_t= [(yi-c_t)/m_t for yi in y]\n",
    "    x_p= [np.sum(w_p[1:]*np.array([yi,1]))/-w_p[0] for yi in y]\n",
    "    plt.plot(x_t, y, color='g')\n",
    "    plt.plot(x_p, y, color='b')\n",
    "    \n",
    "    pos=out_f[np.where(out_f[:,-1]>0)]\n",
    "    neg=out_f[np.where(out_f[:,-1]<0)]\n",
    " \n",
    "    try:\n",
    "        plt.scatter(pos[:,0], pos[:,1], s=50, color='g', marker='+')\n",
    "    except IndexError:\n",
    "        pass\n",
    "    try: \n",
    "        plt.scatter(neg[:,0], neg[:,1], s=50, color='r', marker='_')\n",
    "    except IndexError:\n",
    "        pass\n"
   ]
  },
  {
   "cell_type": "code",
   "execution_count": 7,
   "metadata": {
    "scrolled": false
   },
   "outputs": [
    {
     "name": "stdout",
     "output_type": "stream",
     "text": [
      "Converged after: 100.863\n",
      "Error percentage: 0.01\n"
     ]
    }
   ],
   "source": [
    "it=[]\n",
    "p_e=[]\n",
    "N=100\n",
    "for i in range(1000):\n",
    "    data=gen_xn(N)\n",
    "    f, w_t=gen_f(data)\n",
    "    w_p,i=PLA(f)\n",
    "    it.append(i)\n",
    "    m,c=w_t\n",
    "    test_data=np.concatenate((gen_xn(N), np.ones((N, 1))), axis=-1)\n",
    "    f_x= sign(np.sum([m,-1,c]*test_data, axis=1))\n",
    "    g_x= sign(np.sum(w_p*test_data, axis=1))\n",
    "    \n",
    "    p_e.append(np.sum(int(f_x != g_x)) / N)\n",
    "    #plot(w_t, w_p, f)\n",
    "    #plt.figure()\n",
    "print('Converged after:', np.mean(it))\n",
    "print('Error percentage:', np.mean(p_e))\n",
    "\n"
   ]
  },
  {
   "cell_type": "code",
   "execution_count": null,
   "metadata": {},
   "outputs": [],
   "source": []
  }
 ],
 "metadata": {
  "kernelspec": {
   "display_name": "Python 3",
   "language": "python",
   "name": "python3"
  },
  "language_info": {
   "codemirror_mode": {
    "name": "ipython",
    "version": 3
   },
   "file_extension": ".py",
   "mimetype": "text/x-python",
   "name": "python",
   "nbconvert_exporter": "python",
   "pygments_lexer": "ipython3",
   "version": "3.7.4"
  }
 },
 "nbformat": 4,
 "nbformat_minor": 2
}
