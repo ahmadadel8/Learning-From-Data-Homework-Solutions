{
 "cells": [
  {
   "cell_type": "code",
   "execution_count": 1,
   "metadata": {},
   "outputs": [],
   "source": [
    "import numpy as np "
   ]
  },
  { 
   "cell_type": "code",
   "execution_count": 2,
   "metadata": {},
   "outputs": [],
   "source": [
    "n_coins=1000\n",
    "n_flips=10\n",
    "n_trials=100000\n",
    "#head=1, tail=0"
   ]
  },
  { 
   "cell_type": "code",
   "execution_count": 3,
   "metadata": {},
   "outputs": [],
   "source": [
    "def virtual_coin(n_flips=n_flips):\n",
    "    return np.mean(np.random.binomial(1,0.5, size=n_flips))"
   ]
  },
  {
   "cell_type": "code",
   "execution_count": 4,
   "metadata": {},
   "outputs": [],
   "source": [
    "def experiment(n_coins=n_coins):\n",
    "    coin_results=[]\n",
    "    for _ in range(n_coins):\n",
    "        coin_results.append(virtual_coin(n_flips))\n",
    "    \n",
    "    c1=coin_results[0]\n",
    "    c_min=min(coin_results)\n",
    "    c_rand=coin_results[np.random.randint(len(coin_results))]\n",
    "    c_avg=np.mean(coin_results)\n",
    "    return c1, c_min, c_rand, c_avg"
   ]
  },
  {
   "cell_type": "code",
   "execution_count": 5,
   "metadata": {},
   "outputs": [],
   "source": [
    "def simulation(n_trails=n_trials):\n",
    "    v1,vmin,vrand, vavg=[],[],[],[]\n",
    "    \n",
    "    for i in range(n_trails):\n",
    "        c1,c_min,c_rand,c_avg=experiment(n_coins)\n",
    "        v1.append(c1)\n",
    "        vmin.append(c_min)\n",
    "        vrand.append(c_rand)\n",
    "        vavg.append(c_avg)\n",
    "\n",
    "        \n",
    "    print(\"Average Value of v1 is \", np.mean(v1),'\\n')\n",
    "    print(\"Average Value of vmin is \", np.mean(vmin),'\\n')    \n",
    "    print(\"Average Value of vrand is \", np.mean(vrand),'\\n')    \n",
    "    print(\"Average Value of vavg is \", np.mean(vavg),'\\n')\n",
    "\n",
    "\n",
    "\n"
   ]
  },
  {
   "cell_type": "code",
   "execution_count": 6,
   "metadata": {},
   "outputs": [
    {
     "name": "stdout",
     "output_type": "stream",
     "text": [
      "Average Value of v1 is  0.49944600000000006 \n",
      "\n",
      "Average Value of vmin is  0.037897 \n",
      "\n",
      "Average Value of vrand is  0.501102 \n",
      "\n",
      "Average Value of vavg is  0.500015238 \n",
      "\n"
     ]
    }
   ],
   "source": [
    "simulation()"
   ]
  }
  
 ],
 "metadata": {
  "kernelspec": {
   "display_name": "Python 3",
   "language": "python",
   "name": "python3"
  },
  "language_info": {
   "codemirror_mode": {
    "name": "ipython",
    "version": 3
   },
   "file_extension": ".py",
   "mimetype": "text/x-python",
   "name": "python",
   "nbconvert_exporter": "python",
   "pygments_lexer": "ipython3",
   "version": "3.7.4"
  }
 },
 "nbformat": 4,
 "nbformat_minor": 2
}
