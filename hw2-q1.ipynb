{
 "cells": [
  {
   "cell_type": "code",
   "execution_count": 1,
   "metadata": {},
   "outputs": [],
   "source": [
    "import numpy as np "
   ]
  },
  {
   "cell_type": "code",
   "execution_count": 2,
   "metadata": {},
   "outputs": [],
   "source": [
    "n_coins=1000\n",
    "n_flips=10\n",
    "n_trials=100000\n",
    "#head=1, tail=0"
   ]
  },
  {
   "cell_type": "code",
   "execution_count": 3,
   "metadata": {},
   "outputs": [],
   "source": [
    "def virtual_coin(n_flips=n_flips):\n",
    "    return np.mean(np.random.binomial(1,0.5, size=n_flips))"
   ]
  },
  {
   "cell_type": "code",
   "execution_count": 4,
   "metadata": {},
   "outputs": [],
   "source": [
    "def experiment(n_coins=n_coins):\n",
    "    coin_results=[]\n",
    "    for _ in range(n_coins):\n",
    "        coin_results.append(virtual_coin(n_flips))\n",
    "    \n",
    "    c1=coin_results[0]\n",
    "    c_min=min(coin_results)\n",
    "    c_rand=coin_results[np.random.randint(len(coin_results))]\n",
    "    c_avg=np.mean(coin_results)\n",
    "    return c1, c_min, c_rand, c_avg"
   ]
  },
  {
   "cell_type": "code",
   "execution_count": 5,
   "metadata": {},
   "outputs": [],
   "source": [
    "def simulation(n_trails=n_trials):\n",
    "    v1,vmin,vrand, vavg=[],[],[],[]\n",
    "    \n",
    "    for i in range(n_trails):\n",
    "        c1,c_min,c_rand,c_avg=experiment(n_coins)\n",
    "        if not(i%1000): print(\"Exp\", i, \"done\")\n",
    "        v1.append(c1)\n",
    "        vmin.append(c_min)\n",
    "        vrand.append(c_rand)\n",
    "        vavg.append(c_avg)\n",
    "\n",
    "        \n",
    "    print(\"Average Value of v1 is \", np.mean(v1),'\\n')\n",
    "    print(\"Average Value of vmin is \", np.mean(vmin),'\\n')    \n",
    "    print(\"Average Value of vrand is \", np.mean(vrand),'\\n')    \n",
    "    print(\"Average Value of vavg is \", np.mean(vavg),'\\n')\n",
    "\n",
    "\n",
    "\n"
   ]
  },
  {
   "cell_type": "code",
   "execution_count": 6,
   "metadata": {},
   "outputs": [
    {
     "name": "stdout",
     "output_type": "stream",
     "text": [
      "Exp 0 done\n",
      "Exp 1000 done\n",
      "Exp 2000 done\n",
      "Exp 3000 done\n",
      "Exp 4000 done\n",
      "Exp 5000 done\n",
      "Exp 6000 done\n",
      "Exp 7000 done\n",
      "Exp 8000 done\n",
      "Exp 9000 done\n",
      "Exp 10000 done\n",
      "Exp 11000 done\n",
      "Exp 12000 done\n",
      "Exp 13000 done\n",
      "Exp 14000 done\n",
      "Exp 15000 done\n",
      "Exp 16000 done\n",
      "Exp 17000 done\n",
      "Exp 18000 done\n",
      "Exp 19000 done\n",
      "Exp 20000 done\n",
      "Exp 21000 done\n",
      "Exp 22000 done\n",
      "Exp 23000 done\n",
      "Exp 24000 done\n",
      "Exp 25000 done\n",
      "Exp 26000 done\n",
      "Exp 27000 done\n",
      "Exp 28000 done\n",
      "Exp 29000 done\n",
      "Exp 30000 done\n",
      "Exp 31000 done\n",
      "Exp 32000 done\n",
      "Exp 33000 done\n",
      "Exp 34000 done\n",
      "Exp 35000 done\n",
      "Exp 36000 done\n",
      "Exp 37000 done\n",
      "Exp 38000 done\n",
      "Exp 39000 done\n",
      "Exp 40000 done\n",
      "Exp 41000 done\n",
      "Exp 42000 done\n",
      "Exp 43000 done\n",
      "Exp 44000 done\n",
      "Exp 45000 done\n",
      "Exp 46000 done\n",
      "Exp 47000 done\n",
      "Exp 48000 done\n",
      "Exp 49000 done\n",
      "Exp 50000 done\n",
      "Exp 51000 done\n",
      "Exp 52000 done\n",
      "Exp 53000 done\n",
      "Exp 54000 done\n",
      "Exp 55000 done\n",
      "Exp 56000 done\n",
      "Exp 57000 done\n",
      "Exp 58000 done\n",
      "Exp 59000 done\n",
      "Exp 60000 done\n",
      "Exp 61000 done\n",
      "Exp 62000 done\n",
      "Exp 63000 done\n",
      "Exp 64000 done\n",
      "Exp 65000 done\n",
      "Exp 66000 done\n",
      "Exp 67000 done\n",
      "Exp 68000 done\n",
      "Exp 69000 done\n",
      "Exp 70000 done\n",
      "Exp 71000 done\n",
      "Exp 72000 done\n",
      "Exp 73000 done\n",
      "Exp 74000 done\n",
      "Exp 75000 done\n",
      "Exp 76000 done\n",
      "Exp 77000 done\n",
      "Exp 78000 done\n",
      "Exp 79000 done\n",
      "Exp 80000 done\n",
      "Exp 81000 done\n",
      "Exp 82000 done\n",
      "Exp 83000 done\n",
      "Exp 84000 done\n",
      "Exp 85000 done\n",
      "Exp 86000 done\n",
      "Exp 87000 done\n",
      "Exp 88000 done\n",
      "Exp 89000 done\n",
      "Exp 90000 done\n",
      "Exp 91000 done\n",
      "Exp 92000 done\n",
      "Exp 93000 done\n",
      "Exp 94000 done\n",
      "Exp 95000 done\n",
      "Exp 96000 done\n",
      "Exp 97000 done\n",
      "Exp 98000 done\n",
      "Exp 99000 done\n",
      "Average Value of v1 is  0.49944600000000006 \n",
      "\n",
      "Average Value of vmin is  0.037897 \n",
      "\n",
      "Average Value of vrand is  0.501102 \n",
      "\n",
      "Average Value of vavg is  0.500015238 \n",
      "\n"
     ]
    }
   ],
   "source": [
    "simulation()"
   ]
  },
  {
   "cell_type": "code",
   "execution_count": 7,
   "metadata": {},
   "outputs": [
    {
     "data": {
      "text/plain": [
       "0.6"
      ]
     },
     "execution_count": 7,
     "metadata": {},
     "output_type": "execute_result"
    }
   ],
   "source": []
  },
  {
   "cell_type": "code",
   "execution_count": null,
   "metadata": {},
   "outputs": [],
   "source": []
  },
  {
   "cell_type": "code",
   "execution_count": null,
   "metadata": {},
   "outputs": [],
   "source": []
  }
 ],
 "metadata": {
  "kernelspec": {
   "display_name": "Python 3",
   "language": "python",
   "name": "python3"
  },
  "language_info": {
   "codemirror_mode": {
    "name": "ipython",
    "version": 3
   },
   "file_extension": ".py",
   "mimetype": "text/x-python",
   "name": "python",
   "nbconvert_exporter": "python",
   "pygments_lexer": "ipython3",
   "version": "3.7.4"
  }
 },
 "nbformat": 4,
 "nbformat_minor": 2
}
